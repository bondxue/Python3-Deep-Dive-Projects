{
 "cells": [
  {
   "cell_type": "code",
   "execution_count": 2,
   "metadata": {},
   "outputs": [
    {
     "data": {
      "text/plain": [
       "3.141592653589793"
      ]
     },
     "execution_count": 2,
     "metadata": {},
     "output_type": "execute_result"
    }
   ],
   "source": [
    "import math "
   ]
  },
  {
   "cell_type": "code",
   "execution_count": null,
   "metadata": {},
   "outputs": [],
   "source": [
    "class Polygon:\n",
    "    def __init__(self, n, R):\n",
    "        self.edges = n\n",
    "        self.vertices = n\n",
    "        self.circumradius = R # \n",
    "        self.interior_angle  = self.interior_angle(n) # interior angle \n",
    "        self.edge_length = self.edge_length(n, R) # edge length\n",
    "        self.apothem = self.apothem(R, n)\n",
    "          \n",
    "    def interior_angle(n):\n",
    "        return (n - 2) * 180.0 / a\n",
    "    \n",
    "    def edge_length(n, R):\n",
    "        return 2 * R * math.sin(math.pi/n)\n",
    "    \n",
    "    def apothem(R, n):\n",
    "        return R * math.cos(math.pi/n)\n",
    "    \n",
    "    def area(n, R):\n",
    "        return 0.5 * n * self.edge_length(n, R) * self.apothem(R, n)\n",
    "    \n",
    "    def perimeter(n, R):\n",
    "        return n * edge_length(n, R)\n",
    "    \n",
    "    def __repr__:\n",
    "        pass\n",
    "    \n",
    "    def __eq__:\n",
    "        \n",
    "    \n",
    "    "
   ]
  }
 ],
 "metadata": {
  "kernelspec": {
   "display_name": "Python 3",
   "language": "python",
   "name": "python3"
  },
  "language_info": {
   "codemirror_mode": {
    "name": "ipython",
    "version": 3
   },
   "file_extension": ".py",
   "mimetype": "text/x-python",
   "name": "python",
   "nbconvert_exporter": "python",
   "pygments_lexer": "ipython3",
   "version": "3.6.9"
  }
 },
 "nbformat": 4,
 "nbformat_minor": 4
}
